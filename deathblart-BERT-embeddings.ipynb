{
 "cells": [
  {
   "cell_type": "code",
   "execution_count": 1,
   "id": "d391db74",
   "metadata": {},
   "outputs": [
    {
     "name": "stderr",
     "output_type": "stream",
     "text": [
      "2023-08-10 12:49:27.880353: I tensorflow/core/platform/cpu_feature_guard.cc:193] This TensorFlow binary is optimized with oneAPI Deep Neural Network Library (oneDNN) to use the following CPU instructions in performance-critical operations:  AVX2 AVX512F AVX512_VNNI FMA\n",
      "To enable them in other operations, rebuild TensorFlow with the appropriate compiler flags.\n"
     ]
    }
   ],
   "source": [
    "import torch\n",
    "import datawrangler as dw"
   ]
  },
  {
   "cell_type": "code",
   "execution_count": 2,
   "id": "00cf2dac",
   "metadata": {},
   "outputs": [],
   "source": [
    "import pandas as pd\n",
    "import json"
   ]
  },
  {
   "cell_type": "code",
   "execution_count": 3,
   "id": "874bc472",
   "metadata": {},
   "outputs": [],
   "source": [
    "filepath = \"/Users/f004p74/Desktop/deathblart-nlp/outputs/\"\n",
    "json_files = [\"Blart2015\",\"Blart2016\",\"Blart2017\",\"Blart2018\",\"Blart2019\",\"Blart2020\",\"Blart2021\",\"Blart2022\"]\n",
    "\n",
    "bert = {'model': 'TransformerDocumentEmbeddings', 'args': ['bert-base-uncased'], 'kwargs': {}}"
   ]
  },
  {
   "cell_type": "code",
   "execution_count": 4,
   "id": "1bd3992f",
   "metadata": {},
   "outputs": [],
   "source": [
    "json_dicts = []\n",
    "\n",
    "for file in json_files:\n",
    "    with open(filepath+file+\".json\",\"r\") as read_file:\n",
    "        whisper_data = json.load(read_file)\n",
    "    json_dicts.append(whisper_data)"
   ]
  },
  {
   "cell_type": "code",
   "execution_count": 8,
   "id": "1ac39b0d",
   "metadata": {},
   "outputs": [],
   "source": [
    "for episode,whisper_data in enumerate(json_dicts):\n",
    "    whisper_segments, start_times, end_times = [], [], [] \n",
    "    \n",
    "    for segment in range(len(whisper_data)):\n",
    "        whisper_segments.append(whisper_data[segment][\"text\"])\n",
    "        start_times.append(whisper_data[segment][\"start\"])\n",
    "        end_times.append(whisper_data[segment][\"end\"])\n",
    "        \n",
    "    embeddings = pd.DataFrame()\n",
    "    \n",
    "    for segment in whisper_segments:\n",
    "        bert_embeddings = dw.wrangle(segment, text_kwargs={'model': bert})\n",
    "        embeddings = embeddings.append(bert_embeddings, ignore_index = True)\n",
    "    \n",
    "    embeddings[\"start\"] = start_times\n",
    "    embeddings[\"end\"] = end_times\n",
    "    embeddings[\"episode\"] = json_files[episode]\n",
    "    \n",
    "    embeddings.to_csv(json_files[episode]+\"_embeddings.csv\", index=False)"
   ]
  }
 ],
 "metadata": {
  "kernelspec": {
   "display_name": "Python 3 (ipykernel)",
   "language": "python",
   "name": "python3"
  },
  "language_info": {
   "codemirror_mode": {
    "name": "ipython",
    "version": 3
   },
   "file_extension": ".py",
   "mimetype": "text/x-python",
   "name": "python",
   "nbconvert_exporter": "python",
   "pygments_lexer": "ipython3",
   "version": "3.9.13"
  }
 },
 "nbformat": 4,
 "nbformat_minor": 5
}
