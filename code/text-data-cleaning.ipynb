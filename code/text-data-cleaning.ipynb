{
 "cells": [
  {
   "cell_type": "code",
   "execution_count": 1,
   "id": "f4bb1cad",
   "metadata": {},
   "outputs": [],
   "source": [
    "import pandas as pd\n",
    "import json "
   ]
  },
  {
   "cell_type": "markdown",
   "id": "054027c1",
   "metadata": {},
   "source": [
    "# Merging speech data with embeddings"
   ]
  },
  {
   "cell_type": "code",
   "execution_count": 2,
   "id": "682a76ef",
   "metadata": {},
   "outputs": [],
   "source": [
    "filepath = \"/Users/f004p74/Desktop/deathblart-nlp/output/\"\n",
    "json_files = [\"2015\",\"2016\",\"2017\",\"2018\",\"2019\",\"2020\",\"2021\",\"2022\"]\n",
    "\n",
    "json_dicts = []\n",
    "\n",
    "for file in json_files:\n",
    "    with open(filepath+\"Blart\"+file+\".json\",\"r\") as read_file:\n",
    "        whisper_data = json.load(read_file)\n",
    "    json_dicts.append(whisper_data)"
   ]
  },
  {
   "cell_type": "code",
   "execution_count": 3,
   "id": "3f16d21e",
   "metadata": {},
   "outputs": [],
   "source": [
    "for index,episode_dict in enumerate(json_dicts):\n",
    "    df = pd.read_csv(filepath+\"Blart\"+json_files[index]+\"_embeddings.csv\")\n",
    "        \n",
    "    speaker_segment, speaker_id = [], []\n",
    "        \n",
    "    for segment in episode_dict:\n",
    "        speaker_segment.append(segment['text'])\n",
    "        try:\n",
    "            speaker_id.append(segment['speaker'])\n",
    "        except:\n",
    "            speaker_id.append(\"UNKNOWN\")\n",
    "\n",
    "    df['segment'] = speaker_segment\n",
    "    df['speaker'] = speaker_id\n",
    "    \n",
    "    df.to_csv(filepath+\"Blart\"+json_files[index]+\"_diarized.csv\")"
   ]
  },
  {
   "cell_type": "code",
   "execution_count": 4,
   "id": "a86471f1",
   "metadata": {},
   "outputs": [],
   "source": [
    "# combining all of the dataframes into a single, large dataset\n",
    "\n",
    "dataset = []\n",
    "\n",
    "for file in json_files:\n",
    "    df = pd.read_csv(filepath+\"Blart\"+file+\"_diarized.csv\")\n",
    "    dataset.append(df)\n",
    "\n",
    "combined = pd.concat(dataset, axis=0)\n",
    "\n",
    "combined.to_csv(filepath+'full_dataset.csv')"
   ]
  },
  {
   "cell_type": "markdown",
   "id": "5c6c5a6b",
   "metadata": {},
   "source": [
    "# Searching for mental states\n"
   ]
  },
  {
   "cell_type": "code",
   "execution_count": null,
   "id": "fbf9e6d6",
   "metadata": {},
   "outputs": [],
   "source": []
  },
  {
   "cell_type": "code",
   "execution_count": 36,
   "id": "a4d8b922",
   "metadata": {},
   "outputs": [],
   "source": []
  },
  {
   "cell_type": "code",
   "execution_count": null,
   "id": "f8356c11",
   "metadata": {},
   "outputs": [],
   "source": []
  },
  {
   "cell_type": "code",
   "execution_count": null,
   "id": "499c0467",
   "metadata": {},
   "outputs": [],
   "source": []
  }
 ],
 "metadata": {
  "kernelspec": {
   "display_name": "Python 3 (ipykernel)",
   "language": "python",
   "name": "python3"
  },
  "language_info": {
   "codemirror_mode": {
    "name": "ipython",
    "version": 3
   },
   "file_extension": ".py",
   "mimetype": "text/x-python",
   "name": "python",
   "nbconvert_exporter": "python",
   "pygments_lexer": "ipython3",
   "version": "3.9.13"
  }
 },
 "nbformat": 4,
 "nbformat_minor": 5
}
